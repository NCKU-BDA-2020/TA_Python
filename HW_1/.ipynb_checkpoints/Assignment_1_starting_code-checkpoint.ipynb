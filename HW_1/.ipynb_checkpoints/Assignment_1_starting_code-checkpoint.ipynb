{
 "cells": [
  {
   "cell_type": "markdown",
   "metadata": {},
   "source": [
    "# This is the starting code of BDA assignment 1 \n",
    "### All the hints are not mandatory instructions, you can complete the assignment in your own way"
   ]
  },
  {
   "cell_type": "markdown",
   "metadata": {},
   "source": [
    "<p>________________________________________________________________________________________________________________________</p>"
   ]
  },
  {
   "cell_type": "markdown",
   "metadata": {},
   "source": [
    "## Question 1 - Make the response of the second question in homework_0 more general\n",
    "### This time, you can use ANY package !"
   ]
  },
  {
   "cell_type": "markdown",
   "metadata": {},
   "source": [
    "<pre>\n",
    "The implementions we want to make are follows.\n",
    "<ul>\n",
    "　<li>Top N movies in the aspect of rating in the period of year(i) to year(j) </li>\n",
    "　<li>Top N to top M actors of their accumulated or average revenue</li>\n",
    "  <li>The average rating of a specific actor's(e.g. Emma Watson) movies</li>\n",
    "  <li>Top N to top M directors in the number of actors they collaborated</li>\n",
    "  <li>Top N to top M acotrs in the number of genres they had played</li>  \n",
    "  <li>Top N to top M actors of their maximum gap of years</li>\n",
    "  <li>Find all actors who collaborate with a specific actor(e.g. Johnny Deep) in direct and indirect ways</li>\n",
    "</ul>\n",
    "</pre>"
   ]
  },
  {
   "cell_type": "markdown",
   "metadata": {},
   "source": [
    "### Hint 1 : Import all the packages you need"
   ]
  },
  {
   "cell_type": "code",
   "execution_count": 1,
   "metadata": {},
   "outputs": [],
   "source": [
    "import pandas as pd"
   ]
  },
  {
   "cell_type": "markdown",
   "metadata": {},
   "source": [
    "### Hint 2 : Read the dataset"
   ]
  },
  {
   "cell_type": "code",
   "execution_count": 2,
   "metadata": {},
   "outputs": [
    {
     "data": {
      "text/html": [
       "<div>\n",
       "<style scoped>\n",
       "    .dataframe tbody tr th:only-of-type {\n",
       "        vertical-align: middle;\n",
       "    }\n",
       "\n",
       "    .dataframe tbody tr th {\n",
       "        vertical-align: top;\n",
       "    }\n",
       "\n",
       "    .dataframe thead th {\n",
       "        text-align: right;\n",
       "    }\n",
       "</style>\n",
       "<table border=\"1\" class=\"dataframe\">\n",
       "  <thead>\n",
       "    <tr style=\"text-align: right;\">\n",
       "      <th></th>\n",
       "      <th>Rank</th>\n",
       "      <th>Title</th>\n",
       "      <th>Genre</th>\n",
       "      <th>Director</th>\n",
       "      <th>Actors</th>\n",
       "      <th>Year</th>\n",
       "      <th>Runtime (Minutes)</th>\n",
       "      <th>Rating</th>\n",
       "      <th>Votes</th>\n",
       "      <th>Revenue (Millions)</th>\n",
       "      <th>Metascore</th>\n",
       "    </tr>\n",
       "  </thead>\n",
       "  <tbody>\n",
       "    <tr>\n",
       "      <th>0</th>\n",
       "      <td>55</td>\n",
       "      <td>The Dark Knight</td>\n",
       "      <td>Action|Crime|Drama</td>\n",
       "      <td>Christopher Nolan</td>\n",
       "      <td>Christian Bale| Heath Ledger| Aaron Eckhart|Mi...</td>\n",
       "      <td>2008</td>\n",
       "      <td>152</td>\n",
       "      <td>9.0</td>\n",
       "      <td>1791916</td>\n",
       "      <td>533.32</td>\n",
       "      <td>82.0</td>\n",
       "    </tr>\n",
       "    <tr>\n",
       "      <th>1</th>\n",
       "      <td>81</td>\n",
       "      <td>Inception</td>\n",
       "      <td>Action|Adventure|Sci-Fi</td>\n",
       "      <td>Christopher Nolan</td>\n",
       "      <td>Leonardo DiCaprio| Joseph Gordon-Levitt| Ellen...</td>\n",
       "      <td>2010</td>\n",
       "      <td>148</td>\n",
       "      <td>8.8</td>\n",
       "      <td>1583625</td>\n",
       "      <td>292.57</td>\n",
       "      <td>74.0</td>\n",
       "    </tr>\n",
       "    <tr>\n",
       "      <th>2</th>\n",
       "      <td>118</td>\n",
       "      <td>Dangal</td>\n",
       "      <td>Action|Biography|Drama</td>\n",
       "      <td>Nitesh Tiwari</td>\n",
       "      <td>Aamir Khan| Sakshi Tanwar| Fatima Sana Shaikh|...</td>\n",
       "      <td>2016</td>\n",
       "      <td>161</td>\n",
       "      <td>8.8</td>\n",
       "      <td>48969</td>\n",
       "      <td>11.15</td>\n",
       "      <td>NaN</td>\n",
       "    </tr>\n",
       "    <tr>\n",
       "      <th>3</th>\n",
       "      <td>37</td>\n",
       "      <td>Interstellar</td>\n",
       "      <td>Adventure|Drama|Sci-Fi</td>\n",
       "      <td>Christopher Nolan</td>\n",
       "      <td>Matthew McConaughey| Anne Hathaway| Jessica Ch...</td>\n",
       "      <td>2014</td>\n",
       "      <td>169</td>\n",
       "      <td>8.6</td>\n",
       "      <td>1047747</td>\n",
       "      <td>187.99</td>\n",
       "      <td>74.0</td>\n",
       "    </tr>\n",
       "    <tr>\n",
       "      <th>4</th>\n",
       "      <td>97</td>\n",
       "      <td>Kimi no na wa</td>\n",
       "      <td>Animation|Drama|Fantasy</td>\n",
       "      <td>Makoto Shinkai</td>\n",
       "      <td>Ryunosuke Kamiki| Mone Kamishiraishi| Ryo Nari...</td>\n",
       "      <td>2016</td>\n",
       "      <td>106</td>\n",
       "      <td>8.6</td>\n",
       "      <td>34110</td>\n",
       "      <td>4.68</td>\n",
       "      <td>79.0</td>\n",
       "    </tr>\n",
       "  </tbody>\n",
       "</table>\n",
       "</div>"
      ],
      "text/plain": [
       "   Rank            Title                    Genre           Director  \\\n",
       "0    55  The Dark Knight       Action|Crime|Drama  Christopher Nolan   \n",
       "1    81        Inception  Action|Adventure|Sci-Fi  Christopher Nolan   \n",
       "2   118           Dangal   Action|Biography|Drama      Nitesh Tiwari   \n",
       "3    37     Interstellar   Adventure|Drama|Sci-Fi  Christopher Nolan   \n",
       "4    97    Kimi no na wa  Animation|Drama|Fantasy     Makoto Shinkai   \n",
       "\n",
       "                                              Actors  Year  Runtime (Minutes)  \\\n",
       "0  Christian Bale| Heath Ledger| Aaron Eckhart|Mi...  2008                152   \n",
       "1  Leonardo DiCaprio| Joseph Gordon-Levitt| Ellen...  2010                148   \n",
       "2  Aamir Khan| Sakshi Tanwar| Fatima Sana Shaikh|...  2016                161   \n",
       "3  Matthew McConaughey| Anne Hathaway| Jessica Ch...  2014                169   \n",
       "4  Ryunosuke Kamiki| Mone Kamishiraishi| Ryo Nari...  2016                106   \n",
       "\n",
       "   Rating    Votes  Revenue (Millions)  Metascore  \n",
       "0     9.0  1791916              533.32       82.0  \n",
       "1     8.8  1583625              292.57       74.0  \n",
       "2     8.8    48969               11.15        NaN  \n",
       "3     8.6  1047747              187.99       74.0  \n",
       "4     8.6    34110                4.68       79.0  "
      ]
     },
     "execution_count": 2,
     "metadata": {},
     "output_type": "execute_result"
    }
   ],
   "source": [
    "df = pd.read_csv('IMDB-Movie-Data.csv')\n",
    "df.head()"
   ]
  },
  {
   "cell_type": "markdown",
   "metadata": {},
   "source": [
    "### Hint 3 : Make a class to complete implementations below."
   ]
  },
  {
   "cell_type": "code",
   "execution_count": 5,
   "metadata": {},
   "outputs": [],
   "source": [
    "# You can name your class, functions, methods... whatever you like.\n",
    "\n",
    "class This_is_the_example_class:\n",
    "    def __init__(self, data):\n",
    "        self.df = data\n",
    "        # ...there must be more things to be done...\n",
    "        \n",
    "    def example_method(self):\n",
    "        print('This is just a example.')"
   ]
  },
  {
   "cell_type": "code",
   "execution_count": 6,
   "metadata": {},
   "outputs": [
    {
     "data": {
      "text/html": [
       "<div>\n",
       "<style scoped>\n",
       "    .dataframe tbody tr th:only-of-type {\n",
       "        vertical-align: middle;\n",
       "    }\n",
       "\n",
       "    .dataframe tbody tr th {\n",
       "        vertical-align: top;\n",
       "    }\n",
       "\n",
       "    .dataframe thead th {\n",
       "        text-align: right;\n",
       "    }\n",
       "</style>\n",
       "<table border=\"1\" class=\"dataframe\">\n",
       "  <thead>\n",
       "    <tr style=\"text-align: right;\">\n",
       "      <th></th>\n",
       "      <th>Rank</th>\n",
       "      <th>Title</th>\n",
       "      <th>Genre</th>\n",
       "      <th>Director</th>\n",
       "      <th>Actors</th>\n",
       "      <th>Year</th>\n",
       "      <th>Runtime (Minutes)</th>\n",
       "      <th>Rating</th>\n",
       "      <th>Votes</th>\n",
       "      <th>Revenue (Millions)</th>\n",
       "      <th>Metascore</th>\n",
       "    </tr>\n",
       "  </thead>\n",
       "  <tbody>\n",
       "    <tr>\n",
       "      <th>0</th>\n",
       "      <td>55</td>\n",
       "      <td>The Dark Knight</td>\n",
       "      <td>Action|Crime|Drama</td>\n",
       "      <td>Christopher Nolan</td>\n",
       "      <td>Christian Bale| Heath Ledger| Aaron Eckhart|Mi...</td>\n",
       "      <td>2008</td>\n",
       "      <td>152</td>\n",
       "      <td>9.0</td>\n",
       "      <td>1791916</td>\n",
       "      <td>533.32</td>\n",
       "      <td>82.0</td>\n",
       "    </tr>\n",
       "    <tr>\n",
       "      <th>1</th>\n",
       "      <td>81</td>\n",
       "      <td>Inception</td>\n",
       "      <td>Action|Adventure|Sci-Fi</td>\n",
       "      <td>Christopher Nolan</td>\n",
       "      <td>Leonardo DiCaprio| Joseph Gordon-Levitt| Ellen...</td>\n",
       "      <td>2010</td>\n",
       "      <td>148</td>\n",
       "      <td>8.8</td>\n",
       "      <td>1583625</td>\n",
       "      <td>292.57</td>\n",
       "      <td>74.0</td>\n",
       "    </tr>\n",
       "    <tr>\n",
       "      <th>2</th>\n",
       "      <td>118</td>\n",
       "      <td>Dangal</td>\n",
       "      <td>Action|Biography|Drama</td>\n",
       "      <td>Nitesh Tiwari</td>\n",
       "      <td>Aamir Khan| Sakshi Tanwar| Fatima Sana Shaikh|...</td>\n",
       "      <td>2016</td>\n",
       "      <td>161</td>\n",
       "      <td>8.8</td>\n",
       "      <td>48969</td>\n",
       "      <td>11.15</td>\n",
       "      <td>NaN</td>\n",
       "    </tr>\n",
       "    <tr>\n",
       "      <th>3</th>\n",
       "      <td>37</td>\n",
       "      <td>Interstellar</td>\n",
       "      <td>Adventure|Drama|Sci-Fi</td>\n",
       "      <td>Christopher Nolan</td>\n",
       "      <td>Matthew McConaughey| Anne Hathaway| Jessica Ch...</td>\n",
       "      <td>2014</td>\n",
       "      <td>169</td>\n",
       "      <td>8.6</td>\n",
       "      <td>1047747</td>\n",
       "      <td>187.99</td>\n",
       "      <td>74.0</td>\n",
       "    </tr>\n",
       "    <tr>\n",
       "      <th>4</th>\n",
       "      <td>97</td>\n",
       "      <td>Kimi no na wa</td>\n",
       "      <td>Animation|Drama|Fantasy</td>\n",
       "      <td>Makoto Shinkai</td>\n",
       "      <td>Ryunosuke Kamiki| Mone Kamishiraishi| Ryo Nari...</td>\n",
       "      <td>2016</td>\n",
       "      <td>106</td>\n",
       "      <td>8.6</td>\n",
       "      <td>34110</td>\n",
       "      <td>4.68</td>\n",
       "      <td>79.0</td>\n",
       "    </tr>\n",
       "  </tbody>\n",
       "</table>\n",
       "</div>"
      ],
      "text/plain": [
       "   Rank            Title                    Genre           Director  \\\n",
       "0    55  The Dark Knight       Action|Crime|Drama  Christopher Nolan   \n",
       "1    81        Inception  Action|Adventure|Sci-Fi  Christopher Nolan   \n",
       "2   118           Dangal   Action|Biography|Drama      Nitesh Tiwari   \n",
       "3    37     Interstellar   Adventure|Drama|Sci-Fi  Christopher Nolan   \n",
       "4    97    Kimi no na wa  Animation|Drama|Fantasy     Makoto Shinkai   \n",
       "\n",
       "                                              Actors  Year  Runtime (Minutes)  \\\n",
       "0  Christian Bale| Heath Ledger| Aaron Eckhart|Mi...  2008                152   \n",
       "1  Leonardo DiCaprio| Joseph Gordon-Levitt| Ellen...  2010                148   \n",
       "2  Aamir Khan| Sakshi Tanwar| Fatima Sana Shaikh|...  2016                161   \n",
       "3  Matthew McConaughey| Anne Hathaway| Jessica Ch...  2014                169   \n",
       "4  Ryunosuke Kamiki| Mone Kamishiraishi| Ryo Nari...  2016                106   \n",
       "\n",
       "   Rating    Votes  Revenue (Millions)  Metascore  \n",
       "0     9.0  1791916              533.32       82.0  \n",
       "1     8.8  1583625              292.57       74.0  \n",
       "2     8.8    48969               11.15        NaN  \n",
       "3     8.6  1047747              187.99       74.0  \n",
       "4     8.6    34110                4.68       79.0  "
      ]
     },
     "execution_count": 6,
     "metadata": {},
     "output_type": "execute_result"
    }
   ],
   "source": [
    "example = This_is_the_example_class(df)\n",
    "\n",
    "example.df.head()"
   ]
  },
  {
   "cell_type": "code",
   "execution_count": 7,
   "metadata": {},
   "outputs": [
    {
     "name": "stdout",
     "output_type": "stream",
     "text": [
      "This is just a example.\n"
     ]
    }
   ],
   "source": [
    "example.example_method()"
   ]
  },
  {
   "cell_type": "markdown",
   "metadata": {},
   "source": [
    "##### the result should be like..."
   ]
  },
  {
   "cell_type": "markdown",
   "metadata": {},
   "source": [
    "![Img](https://i.imgur.com/Ydg8w3i.png)"
   ]
  },
  {
   "cell_type": "markdown",
   "metadata": {},
   "source": [
    "## 　"
   ]
  },
  {
   "cell_type": "markdown",
   "metadata": {},
   "source": [
    "## Question 2"
   ]
  },
  {
   "cell_type": "markdown",
   "metadata": {},
   "source": [
    "### Hint 1 : Import the library you need and the data"
   ]
  },
  {
   "cell_type": "markdown",
   "metadata": {},
   "source": [
    "##### This dataset cannot be readed normaly without ' encoding = \"ISO-8859-1\" ', I'll help saving your time on this part."
   ]
  },
  {
   "cell_type": "code",
   "execution_count": 3,
   "metadata": {},
   "outputs": [],
   "source": [
    "import pandas as pd    # pandas of course\n",
    "\n",
    "# open the file\n",
    "df = pd.read_csv(\"ubike.csv\", encoding = \"ISO-8859-1\")\n",
    "\n",
    "# hint 1.1 : maybe you could check out the first few row of the dataset"
   ]
  },
  {
   "cell_type": "markdown",
   "metadata": {},
   "source": [
    "### Hint 2 : Stuffs you need to do before plotting"
   ]
  },
  {
   "cell_type": "code",
   "execution_count": null,
   "metadata": {},
   "outputs": [],
   "source": [
    "# deal with the dataset\n",
    "# hint 2.1 : google for \"time python\""
   ]
  },
  {
   "cell_type": "markdown",
   "metadata": {},
   "source": [
    "### Hint 3 : Make a manual interact function block"
   ]
  },
  {
   "cell_type": "code",
   "execution_count": null,
   "metadata": {},
   "outputs": [],
   "source": [
    "# create your main function, it could starting with\n",
    "\n",
    "# @interact_manual\n",
    "# def compare_2(...you should put something in here...):\n",
    "#    abced\n",
    "#    efghi \n",
    "#    ..."
   ]
  },
  {
   "cell_type": "markdown",
   "metadata": {},
   "source": [
    "##### the output should be like..."
   ]
  },
  {
   "cell_type": "markdown",
   "metadata": {},
   "source": [
    "![Url](https://i.imgur.com/gMbscmQ.gif)"
   ]
  },
  {
   "cell_type": "markdown",
   "metadata": {},
   "source": [
    "### Dread it, run from it, destiny arrives all the same..."
   ]
  }
 ],
 "metadata": {
  "kernelspec": {
   "display_name": "Python 3",
   "language": "python",
   "name": "python3"
  },
  "language_info": {
   "codemirror_mode": {
    "name": "ipython",
    "version": 3
   },
   "file_extension": ".py",
   "mimetype": "text/x-python",
   "name": "python",
   "nbconvert_exporter": "python",
   "pygments_lexer": "ipython3",
   "version": "3.7.1"
  }
 },
 "nbformat": 4,
 "nbformat_minor": 2
}
