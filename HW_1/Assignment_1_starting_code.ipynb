{
 "cells": [
  {
   "cell_type": "markdown",
   "metadata": {},
   "source": [
    "# This is the starting code of BDA assignment 1 \n",
    "### All the hints are not mandatory instructions, you can complete the assignment in your own way"
   ]
  },
  {
   "cell_type": "markdown",
   "metadata": {},
   "source": [
    "<p>________________________________________________________________________________________________________________________</p>"
   ]
  },
  {
   "cell_type": "markdown",
   "metadata": {},
   "source": [
    "## Question 1 - Make the response of the second question in homework_0 more general\n",
    "### This time, you can use ANY package !"
   ]
  },
  {
   "cell_type": "markdown",
   "metadata": {},
   "source": [
    "<pre>\n",
    "Use your experience of homework_0 to make a class with methods that is more flexible in answering similar questions.\n",
    "The implementions we want to make are follows.</pre>\n",
    "<ul>\n",
    "    <li><pre>Top N movies in the aspect of rating in the period of yeari to yearj</pre></li>\n",
    "    <li><pre>Top N to top M actors of their accumulated or average revenue</pre></li>\n",
    "    <li><pre>The average rating of a specific actor's(e.g. Emma Watson) movies</pre></li>\n",
    "    <li><pre>Top N to top M directors in the number of actors they collaborated</pre></li>\n",
    "    <li><pre>Top N to top M acotrs in the number of genres they had played</pre></li>  \n",
    "    <li><pre>Top N to top M actors of their maximum gap of years</pre></li>\n",
    "    <li><pre>Find all actors who collaborate with a specific actor(e.g. Johnny Deep) in direct and indirect ways</pre></li>  \n",
    "</ul>\n",
    "\n",
    "<pre>\n",
    "\n",
    "the result should be like...</pre>\n",
    "\n",
    "![Img](https://i.imgur.com/Ydg8w3i.png)"
   ]
  },
  {
   "cell_type": "markdown",
   "metadata": {},
   "source": [
    "### Hint 1 : Import all the packages you need"
   ]
  },
  {
   "cell_type": "code",
   "execution_count": 1,
   "metadata": {},
   "outputs": [],
   "source": [
    "import pandas as pd"
   ]
  },
  {
   "cell_type": "markdown",
   "metadata": {},
   "source": [
    "### Hint 2 : Read the dataset"
   ]
  },
  {
   "cell_type": "code",
   "execution_count": 2,
   "metadata": {},
   "outputs": [
    {
     "data": {
      "text/html": [
       "<div>\n",
       "<style scoped>\n",
       "    .dataframe tbody tr th:only-of-type {\n",
       "        vertical-align: middle;\n",
       "    }\n",
       "\n",
       "    .dataframe tbody tr th {\n",
       "        vertical-align: top;\n",
       "    }\n",
       "\n",
       "    .dataframe thead th {\n",
       "        text-align: right;\n",
       "    }\n",
       "</style>\n",
       "<table border=\"1\" class=\"dataframe\">\n",
       "  <thead>\n",
       "    <tr style=\"text-align: right;\">\n",
       "      <th></th>\n",
       "      <th>Rank</th>\n",
       "      <th>Title</th>\n",
       "      <th>Genre</th>\n",
       "      <th>Director</th>\n",
       "      <th>Actors</th>\n",
       "      <th>Year</th>\n",
       "      <th>Runtime (Minutes)</th>\n",
       "      <th>Rating</th>\n",
       "      <th>Votes</th>\n",
       "      <th>Revenue (Millions)</th>\n",
       "      <th>Metascore</th>\n",
       "    </tr>\n",
       "  </thead>\n",
       "  <tbody>\n",
       "    <tr>\n",
       "      <th>0</th>\n",
       "      <td>55</td>\n",
       "      <td>The Dark Knight</td>\n",
       "      <td>Action|Crime|Drama</td>\n",
       "      <td>Christopher Nolan</td>\n",
       "      <td>Christian Bale| Heath Ledger| Aaron Eckhart|Mi...</td>\n",
       "      <td>2008</td>\n",
       "      <td>152</td>\n",
       "      <td>9.0</td>\n",
       "      <td>1791916</td>\n",
       "      <td>533.32</td>\n",
       "      <td>82.0</td>\n",
       "    </tr>\n",
       "    <tr>\n",
       "      <th>1</th>\n",
       "      <td>81</td>\n",
       "      <td>Inception</td>\n",
       "      <td>Action|Adventure|Sci-Fi</td>\n",
       "      <td>Christopher Nolan</td>\n",
       "      <td>Leonardo DiCaprio| Joseph Gordon-Levitt| Ellen...</td>\n",
       "      <td>2010</td>\n",
       "      <td>148</td>\n",
       "      <td>8.8</td>\n",
       "      <td>1583625</td>\n",
       "      <td>292.57</td>\n",
       "      <td>74.0</td>\n",
       "    </tr>\n",
       "    <tr>\n",
       "      <th>2</th>\n",
       "      <td>118</td>\n",
       "      <td>Dangal</td>\n",
       "      <td>Action|Biography|Drama</td>\n",
       "      <td>Nitesh Tiwari</td>\n",
       "      <td>Aamir Khan| Sakshi Tanwar| Fatima Sana Shaikh|...</td>\n",
       "      <td>2016</td>\n",
       "      <td>161</td>\n",
       "      <td>8.8</td>\n",
       "      <td>48969</td>\n",
       "      <td>11.15</td>\n",
       "      <td>NaN</td>\n",
       "    </tr>\n",
       "    <tr>\n",
       "      <th>3</th>\n",
       "      <td>37</td>\n",
       "      <td>Interstellar</td>\n",
       "      <td>Adventure|Drama|Sci-Fi</td>\n",
       "      <td>Christopher Nolan</td>\n",
       "      <td>Matthew McConaughey| Anne Hathaway| Jessica Ch...</td>\n",
       "      <td>2014</td>\n",
       "      <td>169</td>\n",
       "      <td>8.6</td>\n",
       "      <td>1047747</td>\n",
       "      <td>187.99</td>\n",
       "      <td>74.0</td>\n",
       "    </tr>\n",
       "    <tr>\n",
       "      <th>4</th>\n",
       "      <td>97</td>\n",
       "      <td>Kimi no na wa</td>\n",
       "      <td>Animation|Drama|Fantasy</td>\n",
       "      <td>Makoto Shinkai</td>\n",
       "      <td>Ryunosuke Kamiki| Mone Kamishiraishi| Ryo Nari...</td>\n",
       "      <td>2016</td>\n",
       "      <td>106</td>\n",
       "      <td>8.6</td>\n",
       "      <td>34110</td>\n",
       "      <td>4.68</td>\n",
       "      <td>79.0</td>\n",
       "    </tr>\n",
       "  </tbody>\n",
       "</table>\n",
       "</div>"
      ],
      "text/plain": [
       "   Rank            Title                    Genre           Director  \\\n",
       "0    55  The Dark Knight       Action|Crime|Drama  Christopher Nolan   \n",
       "1    81        Inception  Action|Adventure|Sci-Fi  Christopher Nolan   \n",
       "2   118           Dangal   Action|Biography|Drama      Nitesh Tiwari   \n",
       "3    37     Interstellar   Adventure|Drama|Sci-Fi  Christopher Nolan   \n",
       "4    97    Kimi no na wa  Animation|Drama|Fantasy     Makoto Shinkai   \n",
       "\n",
       "                                              Actors  Year  Runtime (Minutes)  \\\n",
       "0  Christian Bale| Heath Ledger| Aaron Eckhart|Mi...  2008                152   \n",
       "1  Leonardo DiCaprio| Joseph Gordon-Levitt| Ellen...  2010                148   \n",
       "2  Aamir Khan| Sakshi Tanwar| Fatima Sana Shaikh|...  2016                161   \n",
       "3  Matthew McConaughey| Anne Hathaway| Jessica Ch...  2014                169   \n",
       "4  Ryunosuke Kamiki| Mone Kamishiraishi| Ryo Nari...  2016                106   \n",
       "\n",
       "   Rating    Votes  Revenue (Millions)  Metascore  \n",
       "0     9.0  1791916              533.32       82.0  \n",
       "1     8.8  1583625              292.57       74.0  \n",
       "2     8.8    48969               11.15        NaN  \n",
       "3     8.6  1047747              187.99       74.0  \n",
       "4     8.6    34110                4.68       79.0  "
      ]
     },
     "execution_count": 2,
     "metadata": {},
     "output_type": "execute_result"
    }
   ],
   "source": [
    "df = pd.read_csv('IMDB-Movie-Data.csv')\n",
    "df.head()"
   ]
  },
  {
   "cell_type": "markdown",
   "metadata": {},
   "source": [
    "### Hint 3 : Make a class to complete implementations below."
   ]
  },
  {
   "cell_type": "code",
   "execution_count": 14,
   "metadata": {},
   "outputs": [],
   "source": [
    "# You can name your class, functions, methods... whatever you like.\n",
    "\n",
    "class This_is_the_example_class:\n",
    "    def __init__(self, data):\n",
    "        self.df = data\n",
    "        # ...there must be more things to be done...\n",
    "        \n",
    "    def example_method(self):\n",
    "        print('...under construction')"
   ]
  },
  {
   "cell_type": "code",
   "execution_count": 15,
   "metadata": {},
   "outputs": [
    {
     "data": {
      "text/html": [
       "<div>\n",
       "<style scoped>\n",
       "    .dataframe tbody tr th:only-of-type {\n",
       "        vertical-align: middle;\n",
       "    }\n",
       "\n",
       "    .dataframe tbody tr th {\n",
       "        vertical-align: top;\n",
       "    }\n",
       "\n",
       "    .dataframe thead th {\n",
       "        text-align: right;\n",
       "    }\n",
       "</style>\n",
       "<table border=\"1\" class=\"dataframe\">\n",
       "  <thead>\n",
       "    <tr style=\"text-align: right;\">\n",
       "      <th></th>\n",
       "      <th>Rank</th>\n",
       "      <th>Title</th>\n",
       "      <th>Genre</th>\n",
       "      <th>Director</th>\n",
       "      <th>Actors</th>\n",
       "      <th>Year</th>\n",
       "      <th>Runtime (Minutes)</th>\n",
       "      <th>Rating</th>\n",
       "      <th>Votes</th>\n",
       "      <th>Revenue (Millions)</th>\n",
       "      <th>Metascore</th>\n",
       "    </tr>\n",
       "  </thead>\n",
       "  <tbody>\n",
       "    <tr>\n",
       "      <th>0</th>\n",
       "      <td>55</td>\n",
       "      <td>The Dark Knight</td>\n",
       "      <td>Action|Crime|Drama</td>\n",
       "      <td>Christopher Nolan</td>\n",
       "      <td>Christian Bale| Heath Ledger| Aaron Eckhart|Mi...</td>\n",
       "      <td>2008</td>\n",
       "      <td>152</td>\n",
       "      <td>9.0</td>\n",
       "      <td>1791916</td>\n",
       "      <td>533.32</td>\n",
       "      <td>82.0</td>\n",
       "    </tr>\n",
       "    <tr>\n",
       "      <th>1</th>\n",
       "      <td>81</td>\n",
       "      <td>Inception</td>\n",
       "      <td>Action|Adventure|Sci-Fi</td>\n",
       "      <td>Christopher Nolan</td>\n",
       "      <td>Leonardo DiCaprio| Joseph Gordon-Levitt| Ellen...</td>\n",
       "      <td>2010</td>\n",
       "      <td>148</td>\n",
       "      <td>8.8</td>\n",
       "      <td>1583625</td>\n",
       "      <td>292.57</td>\n",
       "      <td>74.0</td>\n",
       "    </tr>\n",
       "    <tr>\n",
       "      <th>2</th>\n",
       "      <td>118</td>\n",
       "      <td>Dangal</td>\n",
       "      <td>Action|Biography|Drama</td>\n",
       "      <td>Nitesh Tiwari</td>\n",
       "      <td>Aamir Khan| Sakshi Tanwar| Fatima Sana Shaikh|...</td>\n",
       "      <td>2016</td>\n",
       "      <td>161</td>\n",
       "      <td>8.8</td>\n",
       "      <td>48969</td>\n",
       "      <td>11.15</td>\n",
       "      <td>NaN</td>\n",
       "    </tr>\n",
       "    <tr>\n",
       "      <th>3</th>\n",
       "      <td>37</td>\n",
       "      <td>Interstellar</td>\n",
       "      <td>Adventure|Drama|Sci-Fi</td>\n",
       "      <td>Christopher Nolan</td>\n",
       "      <td>Matthew McConaughey| Anne Hathaway| Jessica Ch...</td>\n",
       "      <td>2014</td>\n",
       "      <td>169</td>\n",
       "      <td>8.6</td>\n",
       "      <td>1047747</td>\n",
       "      <td>187.99</td>\n",
       "      <td>74.0</td>\n",
       "    </tr>\n",
       "    <tr>\n",
       "      <th>4</th>\n",
       "      <td>97</td>\n",
       "      <td>Kimi no na wa</td>\n",
       "      <td>Animation|Drama|Fantasy</td>\n",
       "      <td>Makoto Shinkai</td>\n",
       "      <td>Ryunosuke Kamiki| Mone Kamishiraishi| Ryo Nari...</td>\n",
       "      <td>2016</td>\n",
       "      <td>106</td>\n",
       "      <td>8.6</td>\n",
       "      <td>34110</td>\n",
       "      <td>4.68</td>\n",
       "      <td>79.0</td>\n",
       "    </tr>\n",
       "  </tbody>\n",
       "</table>\n",
       "</div>"
      ],
      "text/plain": [
       "   Rank            Title                    Genre           Director  \\\n",
       "0    55  The Dark Knight       Action|Crime|Drama  Christopher Nolan   \n",
       "1    81        Inception  Action|Adventure|Sci-Fi  Christopher Nolan   \n",
       "2   118           Dangal   Action|Biography|Drama      Nitesh Tiwari   \n",
       "3    37     Interstellar   Adventure|Drama|Sci-Fi  Christopher Nolan   \n",
       "4    97    Kimi no na wa  Animation|Drama|Fantasy     Makoto Shinkai   \n",
       "\n",
       "                                              Actors  Year  Runtime (Minutes)  \\\n",
       "0  Christian Bale| Heath Ledger| Aaron Eckhart|Mi...  2008                152   \n",
       "1  Leonardo DiCaprio| Joseph Gordon-Levitt| Ellen...  2010                148   \n",
       "2  Aamir Khan| Sakshi Tanwar| Fatima Sana Shaikh|...  2016                161   \n",
       "3  Matthew McConaughey| Anne Hathaway| Jessica Ch...  2014                169   \n",
       "4  Ryunosuke Kamiki| Mone Kamishiraishi| Ryo Nari...  2016                106   \n",
       "\n",
       "   Rating    Votes  Revenue (Millions)  Metascore  \n",
       "0     9.0  1791916              533.32       82.0  \n",
       "1     8.8  1583625              292.57       74.0  \n",
       "2     8.8    48969               11.15        NaN  \n",
       "3     8.6  1047747              187.99       74.0  \n",
       "4     8.6    34110                4.68       79.0  "
      ]
     },
     "execution_count": 15,
     "metadata": {},
     "output_type": "execute_result"
    }
   ],
   "source": [
    "example = This_is_the_example_class(df)\n",
    "\n",
    "example.df.head()"
   ]
  },
  {
   "cell_type": "code",
   "execution_count": 16,
   "metadata": {},
   "outputs": [
    {
     "name": "stdout",
     "output_type": "stream",
     "text": [
      "...under construction\n"
     ]
    }
   ],
   "source": [
    "example.example_method()"
   ]
  },
  {
   "cell_type": "markdown",
   "metadata": {},
   "source": [
    "## 　"
   ]
  },
  {
   "cell_type": "markdown",
   "metadata": {},
   "source": [
    "## Question 2"
   ]
  },
  {
   "cell_type": "markdown",
   "metadata": {},
   "source": [
    "<pre>\n",
    "This is the data of all 30 ubike stations in Daan District(大安區), \n",
    "recorded by hours, during the period between  6/7/2015 to 10/8/2015.\n",
    "\n",
    "The descriptions of some features are as follow.\n",
    "(Some of the features are strightforward and easy to understand, so their explanations will be skipped)\n",
    "</pre>\n",
    "<ul>\n",
    "    <li><pre>time     : The time this data was recorded, including year/date/hour/minute</pre></li>\n",
    "    <li><pre>id       : The id of each station. Since there are 30 stations, there will be 30 distinctive ids.</pre></li>\n",
    "    <li><pre>station  : The namd of a specific station</pre></li>\n",
    "    <li><pre>location : The district where the station belones to. (All of them are in Daan District) </pre></li>\n",
    "    <li><pre>status   : status =1 means the station is functional. =0 means it's shutdown a that time.</pre></li>\n",
    "    <li><pre>lot      : The number of total parking slot of the station.</pre></li>\n",
    "    <li><pre>bike     : The number of bikes available at the station at that time.</pre></li>\n",
    "    <li><pre>empty    : The number of empty parking slot of the station at that time.</pre></li>\n",
    "    <li><pre>temp     : The temperature at that station at that time. (in kelvin)</pre></li>\n",
    "    <li><pre>pressure : The air pressure at that station at that time.</pre></li>\n",
    "    <li><pre>wind     : The wind speed at that station at that time. (meters/second)</pre></li>\n",
    "</ul>\n",
    "\n",
    "<pre>\n",
    "\n",
    "Don't worry, you don't have to deal with all of the features in this problem. Our goal is to observe some \n",
    "changes of a specific station, which are listed below.\n",
    "</pre>\n",
    "<ol>\n",
    "    <li><pre>the number of average bikes available</pre></li>\n",
    "    <li><pre>the number of average capacity</pre></li>\n",
    "    <li><pre>the rate of bikes available of a specific station to the capacity of bikes of all stations</pre></li>\n",
    "</ol>\n",
    "<pre>\n",
    "We will collect and calculate all three features of a given station by each hour segment of a day, \n",
    "then plot them together in a figure. (Your plots do not need to be exactly the same as the example.)\n",
    "</pre>\n",
    "\n",
    "![Imgur](https://i.imgur.com/eB1mGdD.png)\n",
    "\n",
    "<pre>\n",
    "\n",
    "Furthermore, please use the \"@interact_manual\" interactive control to enable us to switch from one station to another,\n",
    "and our program will calculate and plot the data instantly. \n",
    "The output should look like this:\n",
    "</pre>\n",
    "\n",
    "![Url](https://i.imgur.com/gMbscmQ.gif)\n",
    "\n",
    "<pre>\n",
    "<b>Let's get this coding started !</b>\n",
    "</pre>"
   ]
  },
  {
   "cell_type": "markdown",
   "metadata": {},
   "source": [
    "### Hint 1 : Import the library you need and the data"
   ]
  },
  {
   "cell_type": "markdown",
   "metadata": {},
   "source": [
    "##### This dataset cannot be readed normaly without ' encoding = \"ISO-8859-1\" ', I'll help saving your time on this part."
   ]
  },
  {
   "cell_type": "code",
   "execution_count": 3,
   "metadata": {},
   "outputs": [],
   "source": [
    "import pandas as pd    # pandas of course\n",
    "\n",
    "# open the file\n",
    "df = pd.read_csv(\"ubike.csv\", encoding = \"ISO-8859-1\")\n",
    "\n",
    "# hint 1.1 : check out the first few row of the dataset?"
   ]
  },
  {
   "cell_type": "markdown",
   "metadata": {},
   "source": [
    "### Hint 2 : Stuffs you need to do before plotting"
   ]
  },
  {
   "cell_type": "code",
   "execution_count": null,
   "metadata": {},
   "outputs": [],
   "source": [
    "# deal with the dataset\n",
    "# hint 2.1 : google for \"time python\"\n",
    "# drop the features that are irrelevant to the question, then add some new feature if necessary"
   ]
  },
  {
   "cell_type": "markdown",
   "metadata": {},
   "source": [
    "### Hint 3 : Make a manual interact function block"
   ]
  },
  {
   "cell_type": "code",
   "execution_count": null,
   "metadata": {},
   "outputs": [],
   "source": [
    "# create your main function, it could starting with\n",
    "\n",
    "# @interact_manual\n",
    "# def compare_2(...parameters...):\n",
    "#    operation_1\n",
    "#    operation_2\n",
    "#    ..."
   ]
  },
  {
   "cell_type": "markdown",
   "metadata": {},
   "source": [
    "## 　"
   ]
  },
  {
   "cell_type": "markdown",
   "metadata": {},
   "source": [
    "## Question 3"
   ]
  },
  {
   "cell_type": "markdown",
   "metadata": {},
   "source": [
    "### Dread it, run from it, destiny arrives all the same..."
   ]
  }
 ],
 "metadata": {
  "kernelspec": {
   "display_name": "Python 3",
   "language": "python",
   "name": "python3"
  },
  "language_info": {
   "codemirror_mode": {
    "name": "ipython",
    "version": 3
   },
   "file_extension": ".py",
   "mimetype": "text/x-python",
   "name": "python",
   "nbconvert_exporter": "python",
   "pygments_lexer": "ipython3",
   "version": "3.7.1"
  }
 },
 "nbformat": 4,
 "nbformat_minor": 2
}
